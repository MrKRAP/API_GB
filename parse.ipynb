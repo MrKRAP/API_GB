{
 "cells": [
  {
   "cell_type": "code",
   "execution_count": 1,
   "metadata": {
    "collapsed": true
   },
   "outputs": [],
   "source": [
    "import requests\n",
    "from bs4 import BeautifulSoup\n",
    "import pandas as pd"
   ]
  },
  {
   "cell_type": "code",
   "execution_count": 2,
   "outputs": [],
   "source": [
    "def check(filters):\n",
    "    if len(filters.split()) > 1:\n",
    "        n = '-'.join(filters.split())\n",
    "        return n\n",
    "    else:\n",
    "        return filters"
   ],
   "metadata": {
    "collapsed": false,
    "pycharm": {
     "name": "#%%\n"
    }
   }
  },
  {
   "cell_type": "code",
   "execution_count": 55,
   "outputs": [],
   "source": [
    "# r = requests.get(\"https://hh.ru/vacancies/data-scientist\", headers=headers)\n",
    "#\n",
    "# soup = BeautifulSoup(r.text, 'lxml')\n",
    "# #find_all[-1].find('span').get_text()\n",
    "#\n",
    "# pg = soup.find_all(\"a\", {'class': \"bloko-button\",'data-qa':'pager-page'})[-1].find('span').get_text()\n",
    "#\n",
    "# find_all = soup.find_all(\"div\", {'class': \"vacancy-serp-item\"})\n",
    "\n",
    "\n",
    "def parse(filters,headers):\n",
    "    columns = [\"Наименование вакансии\", 'Компания', \"Минимальная\", \"Максимальная\",'Валюта', 'Ссылка']\n",
    "    r = requests.get(f\"https://hh.ru/search/vacancy?clusters=true&area=1&ored_clusters=true&enable_snippets=true&salary=&text={check(filters)}\", headers=headers)\n",
    "    soup = BeautifulSoup(r.text, 'lxml')\n",
    "    filters = check(filters)\n",
    "    try:\n",
    "        pg = soup.find_all(\"a\", {'class': \"bloko-button\",'data-qa':'pager-page'})[-1].find('span').get_text()\n",
    "        nums = soup.find(\"h1\", {'class': \"bloko-header-section-3\",'data-qa':'bloko-header-3'}).get_text()\n",
    "        df = pd.DataFrame(columns=columns,index = range(0,int(nums.split()[0])))\n",
    "        k = 0\n",
    "        while k != int(nums.split()[0]):\n",
    "            for p in range(0,int(pg)):\n",
    "                r = requests.get(f\"https://hh.ru/search/vacancy?clusters=true&area=1&ored_clusters=true&enable_snippets=true&salary=&text={filters}&page={p}\", headers=headers)\n",
    "                soup = BeautifulSoup(r.content)\n",
    "                find_all = soup.find_all(\"div\", {'class': \"vacancy-serp-item\"})\n",
    "                for i in range(0,len(find_all)):\n",
    "                    try:\n",
    "                        df.loc[k]['Наименование вакансии'] = find_all[i].find(\"a\",{'class':\"bloko-link\"}).get_text()\n",
    "                        df.loc[k]['Компания'] = find_all[i].find(\"a\",{'data-qa':\"vacancy-serp__vacancy-employer\"}).get_text()\n",
    "                        df.loc[k]['Ссылка'] = find_all[i].find(\"a\",{'class':\"bloko-link\"},href = True)['href']\n",
    "                        zp = find_all[i].find(\"div\",{'class':\"vacancy-serp-item__sidebar\"}).get_text().split()\n",
    "                        if 1 < len(zp) <= 4 :\n",
    "                            df.loc[k]['Минимальная'] = None\n",
    "                            df.loc[k]['Валюта']= zp[-1]\n",
    "                            df.loc[k]['Максимальная'] = zp[1] + zp[2]\n",
    "                        else:\n",
    "                            df.loc[k]['Минимальная'] = zp[0] + zp[1]\n",
    "                            df.loc[k]['Валюта']= zp[-1]\n",
    "                            df.loc[k]['Максимальная'] = zp[3] + zp[4]\n",
    "                    except:\n",
    "                            df.loc[k]['Минимальная'] = None\n",
    "                            df.loc[k]['Валюта']= None\n",
    "                            df.loc[k]['Максимальная'] = None\n",
    "                    k += 1\n",
    "    except:\n",
    "        pass\n",
    "        r = requests.get(f\"https://hh.ru/search/vacancy?clusters=true&area=1&ored_clusters=true&enable_snippets=true&salary=&text={check(filters)}\", headers=headers)\n",
    "        soup = BeautifulSoup(r.content)\n",
    "        nums = soup.find(\"h1\", {'class': \"bloko-header-section-3\",'data-qa':'bloko-header-3'}).get_text()\n",
    "        df = pd.DataFrame(columns=columns,index = range(0,int(nums.split()[0])))\n",
    "        find_all = soup.find_all(\"div\", {'class': \"vacancy-serp-item\"})\n",
    "        for i in range(len(find_all)):\n",
    "            try:\n",
    "                df.iloc[i]['Наименование вакансии'] = find_all[i].find(\"a\",{'class':\"bloko-link\"}).get_text()\n",
    "                df.loc[i]['Компания'] = find_all[i].find(\"a\",{'data-qa':\"vacancy-serp__vacancy-employer\"}).get_text()\n",
    "                df.loc[i]['Ссылка'] = find_all[i].find(\"a\",{'class':\"bloko-link\"},href = True)['href']\n",
    "                zp = find_all[i].find(\"div\",{'class':\"vacancy-serp-item__sidebar\"}).get_text().split()\n",
    "                if 1 < len(zp) <= 4 :\n",
    "                    df.loc[i]['Минимальная'] = None\n",
    "                    df.loc[i]['Валюта']= zp[-1]\n",
    "                    df.loc[i]['Максимальная'] = zp[1] + zp[2]\n",
    "                else:\n",
    "                    df.loc[i]['Минимальная'] = zp[0] + zp[1]\n",
    "                    df.loc[i]['Валюта']= zp[-1]\n",
    "                    df.loc[i]['Максимальная'] = zp[3] + zp[4]\n",
    "            except:\n",
    "                df.loc[i]['Минимальная'] = None\n",
    "                df.loc[i]['Валюта']= None\n",
    "                df.loc[i]['Максимальная'] = None\n",
    "\n",
    "\n",
    "    return df\n",
    "\n"
   ],
   "metadata": {
    "collapsed": false,
    "pycharm": {
     "name": "#%%\n"
    }
   }
  },
  {
   "cell_type": "code",
   "execution_count": 56,
   "outputs": [
    {
     "data": {
      "text/plain": "                                 Наименование вакансии  \\\n0                                Senior data scientist   \n1                                       Data Scientist   \n2                   Научный сотрудник / Data scientist   \n3                                Senior data scientist   \n4                 Data Scientist (компьютерное зрение)   \n..                                                 ...   \n434  Junior/Middle NLP Data Scientist в команду Бло...   \n435                                     Data Scientist   \n436                        Lead Data Scientist, Social   \n437                                     Data Scientist   \n438                                     Data Scientist   \n\n                           Компания Минимальная Максимальная Валюта  \\\n0                        First data        None       150000   руб.   \n1                    ООО КИБЕРБОРЕЯ        None         None   None   \n2                      ООО Gero LLC      150000       230000   руб.   \n3                       Hunt Expert        None       270000   руб.   \n4                   ООО Дип Системс      200000       400000   руб.   \n..                              ...         ...          ...    ...   \n434              Сбер. Data Science        None         None   None   \n435             Группа компаний SRG        None         None   None   \n436  Ozon Информационные технологии        None         None   None   \n437                IPONWEB Ltd (UK)        None         None   None   \n438              Cornerstone Russia        None         None   None   \n\n                                                Ссылка  \n0    https://hh.ru/vacancy/49744980?from=vacancy_se...  \n1    https://hh.ru/vacancy/49891459?from=vacancy_se...  \n2    https://hh.ru/vacancy/50035189?from=vacancy_se...  \n3    https://hh.ru/vacancy/49993197?from=vacancy_se...  \n4    https://hh.ru/vacancy/49557719?from=vacancy_se...  \n..                                                 ...  \n434  https://hh.ru/vacancy/49702248?from=vacancy_se...  \n435  https://hh.ru/vacancy/49794918?from=vacancy_se...  \n436  https://hh.ru/vacancy/49748309?from=vacancy_se...  \n437  https://hh.ru/vacancy/49782140?from=vacancy_se...  \n438  https://hh.ru/vacancy/49791943?from=vacancy_se...  \n\n[439 rows x 6 columns]",
      "text/html": "<div>\n<style scoped>\n    .dataframe tbody tr th:only-of-type {\n        vertical-align: middle;\n    }\n\n    .dataframe tbody tr th {\n        vertical-align: top;\n    }\n\n    .dataframe thead th {\n        text-align: right;\n    }\n</style>\n<table border=\"1\" class=\"dataframe\">\n  <thead>\n    <tr style=\"text-align: right;\">\n      <th></th>\n      <th>Наименование вакансии</th>\n      <th>Компания</th>\n      <th>Минимальная</th>\n      <th>Максимальная</th>\n      <th>Валюта</th>\n      <th>Ссылка</th>\n    </tr>\n  </thead>\n  <tbody>\n    <tr>\n      <th>0</th>\n      <td>Senior data scientist</td>\n      <td>First data</td>\n      <td>None</td>\n      <td>150000</td>\n      <td>руб.</td>\n      <td>https://hh.ru/vacancy/49744980?from=vacancy_se...</td>\n    </tr>\n    <tr>\n      <th>1</th>\n      <td>Data Scientist</td>\n      <td>ООО КИБЕРБОРЕЯ</td>\n      <td>None</td>\n      <td>None</td>\n      <td>None</td>\n      <td>https://hh.ru/vacancy/49891459?from=vacancy_se...</td>\n    </tr>\n    <tr>\n      <th>2</th>\n      <td>Научный сотрудник / Data scientist</td>\n      <td>ООО Gero LLC</td>\n      <td>150000</td>\n      <td>230000</td>\n      <td>руб.</td>\n      <td>https://hh.ru/vacancy/50035189?from=vacancy_se...</td>\n    </tr>\n    <tr>\n      <th>3</th>\n      <td>Senior data scientist</td>\n      <td>Hunt Expert</td>\n      <td>None</td>\n      <td>270000</td>\n      <td>руб.</td>\n      <td>https://hh.ru/vacancy/49993197?from=vacancy_se...</td>\n    </tr>\n    <tr>\n      <th>4</th>\n      <td>Data Scientist (компьютерное зрение)</td>\n      <td>ООО Дип Системс</td>\n      <td>200000</td>\n      <td>400000</td>\n      <td>руб.</td>\n      <td>https://hh.ru/vacancy/49557719?from=vacancy_se...</td>\n    </tr>\n    <tr>\n      <th>...</th>\n      <td>...</td>\n      <td>...</td>\n      <td>...</td>\n      <td>...</td>\n      <td>...</td>\n      <td>...</td>\n    </tr>\n    <tr>\n      <th>434</th>\n      <td>Junior/Middle NLP Data Scientist в команду Бло...</td>\n      <td>Сбер. Data Science</td>\n      <td>None</td>\n      <td>None</td>\n      <td>None</td>\n      <td>https://hh.ru/vacancy/49702248?from=vacancy_se...</td>\n    </tr>\n    <tr>\n      <th>435</th>\n      <td>Data Scientist</td>\n      <td>Группа компаний SRG</td>\n      <td>None</td>\n      <td>None</td>\n      <td>None</td>\n      <td>https://hh.ru/vacancy/49794918?from=vacancy_se...</td>\n    </tr>\n    <tr>\n      <th>436</th>\n      <td>Lead Data Scientist, Social</td>\n      <td>Ozon Информационные технологии</td>\n      <td>None</td>\n      <td>None</td>\n      <td>None</td>\n      <td>https://hh.ru/vacancy/49748309?from=vacancy_se...</td>\n    </tr>\n    <tr>\n      <th>437</th>\n      <td>Data Scientist</td>\n      <td>IPONWEB Ltd (UK)</td>\n      <td>None</td>\n      <td>None</td>\n      <td>None</td>\n      <td>https://hh.ru/vacancy/49782140?from=vacancy_se...</td>\n    </tr>\n    <tr>\n      <th>438</th>\n      <td>Data Scientist</td>\n      <td>Cornerstone Russia</td>\n      <td>None</td>\n      <td>None</td>\n      <td>None</td>\n      <td>https://hh.ru/vacancy/49791943?from=vacancy_se...</td>\n    </tr>\n  </tbody>\n</table>\n<p>439 rows × 6 columns</p>\n</div>"
     },
     "execution_count": 56,
     "metadata": {},
     "output_type": "execute_result"
    }
   ],
   "source": [
    "headers = {\n",
    "    \"User-Agent\": \"Mozilla/5.0 (Windows NT 10.0; Win64; x64) AppleWebKit/537.36 (KHTML, like Gecko) Chrome/96.0.4664.45 Safari/537.36\", }\n",
    "filters = str(input(\"Введите название ужной вам вакансии: \"))\n",
    "# filters = \"data scientist\"\n",
    "parse(filters,headers)"
   ],
   "metadata": {
    "collapsed": false,
    "pycharm": {
     "name": "#%%\n"
    }
   }
  }
 ],
 "metadata": {
  "kernelspec": {
   "display_name": "Python 3",
   "language": "python",
   "name": "python3"
  },
  "language_info": {
   "codemirror_mode": {
    "name": "ipython",
    "version": 2
   },
   "file_extension": ".py",
   "mimetype": "text/x-python",
   "name": "python",
   "nbconvert_exporter": "python",
   "pygments_lexer": "ipython2",
   "version": "2.7.6"
  }
 },
 "nbformat": 4,
 "nbformat_minor": 0
}